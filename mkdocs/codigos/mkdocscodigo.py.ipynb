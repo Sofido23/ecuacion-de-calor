{
 "cells": [
  {
   "cell_type": "markdown",
   "metadata": {},
   "source": [
    "# Codigo Py\n",
    "# Metodo de Crank-Nicolson en 2D para la Ecuacion de Calor"
   ] 
  },
  {
   "cell_type": "markdown",
   "metadata": {},
   "source": [
    "Este cuaderno tiene como objetivo implementar el metodo numerico de Crank-Nicolson para resolver la ecuacion de calor en 2D. Se explicara la teoria detras del metodo, su aplicacion, implementacion y resultados."
   ]
  },
  {
   "cell_type": "markdown",
   "metadata": {},
   "source": [
    "## Ecuacion de calor en 2D "
   ]
  },
  {
   "cell_type": "markdown",
   "metadata": {},
   "source": [
    "La ecuacion de calor en 2D se expresa como:\n",
    "\n",
    "$$\n",
    "\\frac{\\partial u}{\\partial t} = \\alpha\\left( \\frac{\\partial^2 u}{\\partial x^2} + \\frac{\\partial^2 u}{\\partial y^2} \\right)\n",
    "$$\n",
    "\n",
    "donde: \n",
    "- $u(x, y, t)$ es la temperatura\n",
    "- $\\alpha$ es la difusividad termica"
   ]
  },
  {
   "cell_type": "markdown",
   "metadata": {},
   "source": [
    "## Discretizacion de la ecuacion "
   ]
  },
  {
   "cell_type": "markdown",
   "metadata": {},
   "source": [
    "Usamos diferencias finitas centradas en el espacio y un promedio entre tiempos $n$ y $n+1$ (metodo Crank-Nicolson):\n",
    "\n",
    "$$\n",
    "\\frac{u_{i,j}^{n+1} - u_{i,j}^n}{\\Delta t}= \\frac{\\alpha}{2} \\left( \\nabla^2 u_{i,j}^{n+1} + \\nabla^2 u_{i,j}^{n} \\right)\n",
    "$$\n",
    "\n",
    "Esto nos lleva a resolver un sistema lineal en cada paso temporal."
   ]
  },
  {
   "cell_type": "markdown",
   "metadata": {},
   "source": [
    "## Ejemplo: difusion 2D"
   ]
  },
  {
   "cell_type": "markdown",
   "metadata": {},
   "source": [
    "Cuando se extiende a dos dimensiones en una malla Cartesiana, el metodo se deduce de forma similar y el resultado conduce de nuevo a un sistema de ecuaciones algebraicas con matriz banda. Por ejemplo, la ecuacion del calor bidimensional:\n",
    "\n",
    "$$\n",
    "\\frac{\\partial u}{\\partial t} = a \\left ( \\frac{\\partial^2 u}{\\partial x^2} + \\frac{\\partial^2 u}{\\partial y^2} \\right)\n",
    "$$\n",
    "\n",
    "puede resolverse mediante una discretizacion de Crank-Nicolson:\n",
    "\n",
    "$$\n",
    "u_{i,j}^{n+1} = u_{i,j}^n + \\frac{1}{2} \\frac{a \\Delta t}{(\\Delta x)^2} \\left[\\begin{aligned} &(u_{i+1,j}^{n+1} + u_{i-1,j}^{n+1} + (u_{i,j+1}^{n+1} + u_{i, j-1}^{n+1} -4u_{i, j}^{n+1}) \\\\\n",
    "&+ (u_{i+1,j}^n + u_{i-1,j}^n + u_{i,j+1}^n + u_{i,j-1}^n -4u_{i,j}^n) \n",
    "\\end{aligned}\n",
    "\\right]\n",
    "$$\n",
    "\n",
    "suponiendo que se usa una malla cuadrada en la que $\\Delta x = \\Delta y$. Estas ecuaciones pueden ser simplificadas algo, ordenando sus terminos y usando el numero de Courant:\n",
    "\n",
    "$$\n",
    "\\mu = \\frac{a \\Delta t}{(\\Delta x)^2}\n",
    "$$\n",
    "\n",
    "En el esquema numerico de Crank-Nicolson, el tener un numero de Courant pequeno no es un requisito para la estabilidad, aunque es necesario para laprecision numerica. Ahora podemos escribir el esquema como:\n",
    "\n",
    "$$\n",
    "(1/2\\mu) u_{i,j}^{n+1} - \\frac{\\mu}{2} \\left( u_{i+1, j}^{n+1} + u_{i-1,j}^{n+1} + u_{i,j+1}^{n+1} + u_{i, j-1}^{n+1} \\right) = (1 - 2\\mu) u_{i,j}^n + \\frac{\\mu}{2} \\left( u_{i+1, j}^n + u_{i-1,j}^n + u_{i, j+1}^n + u_{i, j-1}^n \\right)\n",
    "$$ "
   ]

 
    "alpha = 1.0\n",
    "\n",

